{
 "cells": [
  {
   "cell_type": "markdown",
   "metadata": {
    "id": "cG0TPWMz7kv2"
   },
   "source": [
    "# Dostoevsky GPT\n",
    "\n",
    "Fyodor Mikhailovich Dostoevsky (1821 - 1881) was a Russian author and novelist, and is arguably one of the greatest novelists in the history of literature. Notably, towards the end of his life, Dostoevsky was in the process of writing a novel titled Nietoshka Nezvanova. However, unfortunately, he passed away before he is able to finish the book.\n",
    "\n",
    "Therefore, for fun of course, I will build my own Transformer GPT model (that is, a decoder-only transformer with character-wise tokenization) inside this notebook that will learn off of all of what is written on the unfinished novel Nietoshka Nezvanova and then generate future text. This future text is what the model thinks should be how the story continues (even though, of course, this is probably not what Dostoevsky himself would have wrote had he finished the book...). Thus, essentially, in the end we can generate and infer our own fully-finished versions of Nietoshka Nezvanova!\n",
    "\n",
    "Note that, due to computation limitations and the fact that I am not willing to spend months training an LLM, the transformer model is rather small. Thus, the generation texts will not be as accurate or sensible compared to a more sophisticated GPT.\n",
    "\n",
    "Here are some things a curious learner can do to make this model better:\n",
    "1. Enlarge the model by increasing hyperparameters such as\n",
    "    - number of attention heads,\n",
    "    - number of unfolding layers,\n",
    "    - max number of tokens the model can process at once\n",
    "    - more training epochs,\n",
    "    - etc.\n",
    "2. Use a more robust tokenization technique such as Byte-Pair Encoding (BPE). In fact, a file containing such tokenizer is provided for you to try!\n",
    "3. First pre-train the transformer on some of Dostoevsky's other works to learn more about his writing style and any linguistic/contextual complexities\n",
    "   to better adapt the model to his writings. Afterwards, fine-tune the model specifically on Nietoshka Nezvanova to have the model generate text specific to that novel\n",
    "   - In fact, a text file of The Brothers Karamazov, Dostoevsky's longest work, is attached under ```/data``` for you to try and pre-train.\n",
    "\n",
    "Credits:\n",
    "- The text file for Netochka Nezvanova is directly taken from: https://www.thetedkarchive.com/library/fyodor-dostoevsky-netochka-nezvanova-an-incomplete-novel\n",
    "- The text file for The Brothers Karamazov is directly taken from: https://www.gutenberg.org/ebooks/28054\n",
    "- This transformer architecture was inspired by [Andrej Karpathy](https://github.com/karpathy). The link to the GitHub repository can be found here: https://github.com/karpathy/ng-video-lecture\n",
    "\n",
    "Also, the amazing paper titled \"Attention Is All You Need\" which first proposed the possibility of Transformer models can be found here: https://arxiv.org/abs/1706.03762"
   ]
  },
  {
   "cell_type": "markdown",
   "metadata": {
    "id": "eixAPTzeRlQH"
   },
   "source": [
    "## 0. Imports, Hyperparameters, Data Retrieval"
   ]
  },
  {
   "cell_type": "code",
   "execution_count": 1,
   "metadata": {
    "colab": {
     "base_uri": "https://localhost:8080/"
    },
    "id": "xD2TS7mi79zP",
    "outputId": "bb1e2342-5971-48a6-fe96-4a91654916fd"
   },
   "outputs": [
    {
     "name": "stdout",
     "output_type": "stream",
     "text": [
      "Mounted at /content/drive\n"
     ]
    },
    {
     "data": {
      "text/plain": [
       "('2.5.1+cu121', 'cuda')"
      ]
     },
     "execution_count": 1,
     "metadata": {},
     "output_type": "execute_result"
    }
   ],
   "source": [
    "# Necessary imports\n",
    "import torch\n",
    "from torch import nn\n",
    "from torch.utils.data import Dataset\n",
    "from torch.utils.data import DataLoader\n",
    "import pandas as pd\n",
    "import numpy as np\n",
    "import matplotlib.pyplot as plt\n",
    "from timeit import default_timer as timer\n",
    "from torch.nn import functional as F\n",
    "\n",
    "# Since I am using Google Colab (for CUDA support), I need to first mount drive for file imports\n",
    "from google.colab import drive\n",
    "drive.mount('/content/drive')\n",
    "\n",
    "# Setting torch manual seed\n",
    "torch.manual_seed(42)\n",
    "\n",
    "# Set device\n",
    "device = 'cuda' if torch.cuda.is_available() else 'cpu'\n",
    "\n",
    "# Hyperparameters\n",
    "LEARNING_RATE = 3e-4\n",
    "EPOCHS = 10 # Make this value greater for more accurate results\n",
    "NUM_GENERATE = int(1e4) # Make this value greater for more text\n",
    "PLOT_STEPS = 1\n",
    "PRINT_STEPS = 1\n",
    "DROPOUT = 0.20\n",
    "BATCH_SIZE = 64\n",
    "BLOCK_SIZE = 128 # Make this value greater for more accurate results\n",
    "N_EMBED = 264 # Make this value greater for more accurate results\n",
    "N_HEAD = 6 # Make this value greater for more accurate results\n",
    "N_LAYERS = 4 # Make this value greater for more accurate results\n",
    "WEIGHT_DECAY = 1e-4\n",
    "\n",
    "torch.__version__, device"
   ]
  },
  {
   "cell_type": "code",
   "execution_count": 2,
   "metadata": {
    "colab": {
     "base_uri": "https://localhost:8080/"
    },
    "id": "q281W_ZkIdh6",
    "outputId": "07474891-c6de-48a2-c074-7e665a8f4808"
   },
   "outputs": [
    {
     "name": "stdout",
     "output_type": "stream",
     "text": [
      "Vocab: ['\\n', ' ', '!', '(', ')', '*', ',', '-', '.', '0', '2', '9', ':', ';', '?', 'A', 'B', 'C', 'D', 'E', 'F', 'G', 'H', 'I', 'J', 'K', 'L', 'M', 'N', 'O', 'P', 'Q', 'R', 'S', 'T', 'U', 'V', 'W', 'X', 'Y', 'a', 'b', 'c', 'd', 'e', 'f', 'g', 'h', 'i', 'j', 'k', 'l', 'm', 'n', 'o', 'p', 'q', 'r', 's', 't', 'u', 'v', 'w', 'x', 'y', 'z', 'à', 'é', 'ê', '—', '‘', '’', '“', '”']\n",
      "Vocab Size: 74\n"
     ]
    }
   ],
   "source": [
    "# Get text data\n",
    "with open('/content/drive/My Drive/netochka-nezvanova.txt', 'r', encoding='utf-8') as f:\n",
    "  content = f.read()\n",
    "\n",
    "# Get all unique characters from both texts\n",
    "vocab = sorted(list(set(content)))\n",
    "vocab_size = len(vocab)\n",
    "\n",
    "print(f\"Vocab: {vocab}\")\n",
    "print(f\"Vocab Size: {vocab_size}\")"
   ]
  },
  {
   "cell_type": "markdown",
   "metadata": {
    "id": "CY9JTjAiRwj_"
   },
   "source": [
    "## 1. Data Processing"
   ]
  },
  {
   "cell_type": "code",
   "execution_count": 3,
   "metadata": {
    "colab": {
     "base_uri": "https://localhost:8080/"
    },
    "id": "_u4KdsRnK92B",
    "outputId": "5318c738-e8f7-4fc5-c73a-a7e212d5b9c9"
   },
   "outputs": [
    {
     "name": "stdout",
     "output_type": "stream",
     "text": [
      "[32, 40, 58, 50, 54, 51, 53, 48, 50, 54, 61]\n",
      "Ivanovna\n"
     ]
    }
   ],
   "source": [
    "# Create bidirectional mappings from characters to indices\n",
    "stoi = {ch:i for i,ch in enumerate(vocab)}\n",
    "itos = {i:ch for i,ch in enumerate(vocab)}\n",
    "\n",
    "# Create encoding and decoding functions\n",
    "def encode(s: str) -> list[int]:\n",
    "  return [stoi[c] for c in s]\n",
    "\n",
    "def decode(l: list[int]) -> str:\n",
    "  return ''.join([itos[i] for i in l])\n",
    "\n",
    "# Test random examples to ensure everything works\n",
    "print(encode(\"Raskolnikov\"))\n",
    "print(decode(encode(\"Ivanovna\")))"
   ]
  },
  {
   "cell_type": "code",
   "execution_count": 4,
   "metadata": {
    "colab": {
     "base_uri": "https://localhost:8080/"
    },
    "id": "IO2hkrZtNCDf",
    "outputId": "ce8e0c48-441f-48bf-91c8-d37a596349e7"
   },
   "outputs": [
    {
     "name": "stdout",
     "output_type": "stream",
     "text": [
      "Length of data: 369882\n",
      "369754 369754\n"
     ]
    }
   ],
   "source": [
    "# Get data and convert to tensor\n",
    "data = torch.tensor(encode(content), dtype=torch.long).to(device)\n",
    "print(f\"Length of data: {len(data)}\")\n",
    "\n",
    "# Get training data\n",
    "data_X, data_y = [], []\n",
    "\n",
    "for i in range(0, len(data) - BLOCK_SIZE):\n",
    "    cur_X = data[i:i+BLOCK_SIZE].to(device)\n",
    "    cur_y = data[i+1:i+BLOCK_SIZE+1].to(device)\n",
    "\n",
    "    data_X.append(cur_X)\n",
    "    data_y.append(cur_y)\n",
    "\n",
    "# Convert lists to tensors and move to device\n",
    "data_X = torch.stack(data_X).to(device)\n",
    "data_y = torch.stack(data_y).to(device)\n",
    "\n",
    "print(len(data_X), len(data_y))"
   ]
  },
  {
   "cell_type": "code",
   "execution_count": 5,
   "metadata": {
    "colab": {
     "base_uri": "https://localhost:8080/"
    },
    "id": "8nanwJH_QRDF",
    "outputId": "e1796e66-7174-491d-b8fa-8b38edc19be8"
   },
   "outputs": [
    {
     "name": "stdout",
     "output_type": "stream",
     "text": [
      "Length of dataloader: 5778 batches of 64\n"
     ]
    }
   ],
   "source": [
    "# Create Dataset for tokenized inputs\n",
    "class DostoevskyDataset(Dataset):\n",
    "    def __init__(self, X, y):\n",
    "        self.X = X\n",
    "        self.y = y\n",
    "\n",
    "    def __len__(self):\n",
    "        return len(self.X)\n",
    "\n",
    "    def __getitem__(self, idx):\n",
    "        return self.X[idx], self.y[idx]\n",
    "\n",
    "dataset = DostoevskyDataset(data_X, data_y)\n",
    "\n",
    "# Create training dataloaders\n",
    "dataloader = DataLoader(\n",
    "    dataset,\n",
    "    batch_size=BATCH_SIZE,\n",
    "    shuffle=True\n",
    ")\n",
    "\n",
    "print(f\"Length of dataloader: {len(dataloader)} batches of {BATCH_SIZE}\")"
   ]
  },
  {
   "cell_type": "markdown",
   "metadata": {
    "id": "ZVqo8UElRzDn"
   },
   "source": [
    "## 2. Building GPT Transformer Model"
   ]
  },
  {
   "cell_type": "code",
   "execution_count": 6,
   "metadata": {
    "colab": {
     "base_uri": "https://localhost:8080/"
    },
    "id": "Oz54psztR30k",
    "outputId": "29578324-3f49-446f-b52e-fa7d258ea91c"
   },
   "outputs": [
    {
     "name": "stdout",
     "output_type": "stream",
     "text": [
      "3429434 total parameter count\n"
     ]
    }
   ],
   "source": [
    "class Head(nn.Module):\n",
    "    \"\"\" one head of self-attention \"\"\"\n",
    "\n",
    "    def __init__(self, head_size):\n",
    "        super().__init__()\n",
    "\n",
    "        self.key = nn.Linear(N_EMBED, head_size, bias=False)\n",
    "        self.query = nn.Linear(N_EMBED, head_size, bias=False)\n",
    "        self.value = nn.Linear(N_EMBED, head_size, bias=False)\n",
    "\n",
    "        self.register_buffer('tril', torch.tril(torch.ones(BLOCK_SIZE, BLOCK_SIZE)))\n",
    "        self.dropout = nn.Dropout(DROPOUT)\n",
    "\n",
    "    def forward(self, x):\n",
    "        B, T, C = x.shape\n",
    "\n",
    "        k = self.key(x)\n",
    "        q = self.query(x)\n",
    "        v = self.value(x)\n",
    "\n",
    "        affinity = q @ k.transpose(-2,-1) * k.shape[-1]**-0.5 # (B, T, hs) @ (B, hs, T) -> (B, T, T)\n",
    "        affinity = affinity.masked_fill(self.tril[:T, :T] == 0, float('-inf')) # (B, T, T)\n",
    "        affinity = torch.softmax(affinity, dim=-1) # (B, T, T)\n",
    "        affinity = self.dropout(affinity)\n",
    "\n",
    "        out = affinity @ v # (B, T, T) @ (B, T, hs) -> (B, T, hs)\n",
    "        return out\n",
    "\n",
    "class MultiHeadAttention(nn.Module):\n",
    "    \"\"\" multiple heads of self-attention in parallel \"\"\"\n",
    "\n",
    "    def __init__(self, num_heads, head_size):\n",
    "        super().__init__()\n",
    "\n",
    "        self.heads = nn.ModuleList([Head(head_size) for _ in range(num_heads)])\n",
    "        self.proj = nn.Linear(head_size * num_heads, N_EMBED)\n",
    "        self.dropout = nn.Dropout(DROPOUT)\n",
    "\n",
    "    def forward(self, x):\n",
    "        out = torch.cat([h(x) for h in self.heads], dim=-1)\n",
    "        out = self.proj(out)\n",
    "        out = self.dropout(out)\n",
    "\n",
    "        return out\n",
    "\n",
    "class FeedFoward(nn.Module):\n",
    "    \"\"\" A simple rectified multilayer perceptron \"\"\"\n",
    "\n",
    "    def __init__(self, n_embd):\n",
    "        super().__init__()\n",
    "\n",
    "        self.mlp = nn.Sequential(\n",
    "            nn.Linear(N_EMBED, 4 * N_EMBED),\n",
    "            nn.ReLU(),\n",
    "            nn.Linear(4 * N_EMBED, N_EMBED),\n",
    "            nn.Dropout(DROPOUT),\n",
    "        )\n",
    "\n",
    "    def forward(self, x):\n",
    "        return self.mlp(x)\n",
    "\n",
    "class Block(nn.Module):\n",
    "    \"\"\" Transformer block: communication followed by computation \"\"\"\n",
    "\n",
    "    def __init__(self, n_head):\n",
    "        # N_EMBED: embedding dimension, n_head: the number of heads we'd like\n",
    "        super().__init__()\n",
    "        head_size = N_EMBED // n_head\n",
    "\n",
    "        self.sa = MultiHeadAttention(n_head, head_size)\n",
    "        self.ffwd = FeedFoward(N_EMBED)\n",
    "        self.ln1 = nn.LayerNorm(N_EMBED)\n",
    "        self.ln2 = nn.LayerNorm(N_EMBED)\n",
    "\n",
    "    def forward(self, x):\n",
    "        x_residual_1 = self.sa(self.ln1(x))\n",
    "        x = x + x_residual_1\n",
    "\n",
    "        x_residual_2 = self.ffwd(self.ln2(x))\n",
    "        x = x + x_residual_2\n",
    "\n",
    "        return x\n",
    "\n",
    "class Transformer(nn.Module):\n",
    "    \"\"\" The Transformer Architecture \"\"\"\n",
    "\n",
    "    def __init__(self):\n",
    "        super().__init__()\n",
    "\n",
    "        self.token_embedding_table = nn.Embedding(vocab_size, N_EMBED)\n",
    "        self.position_embedding_table = nn.Embedding(BLOCK_SIZE, N_EMBED)\n",
    "        self.blocks = nn.Sequential(*[Block(n_head=N_HEAD) for _ in range(N_LAYERS)])\n",
    "        self.norm = nn.LayerNorm(N_EMBED)\n",
    "        self.lm_head = nn.Linear(N_EMBED, vocab_size)\n",
    "        self.apply(self._init_weights)\n",
    "\n",
    "    def _init_weights(self, module):\n",
    "        if isinstance(module, nn.Linear):\n",
    "            torch.nn.init.normal_(module.weight, mean=0.0, std=0.02)\n",
    "            if module.bias is not None:\n",
    "                torch.nn.init.zeros_(module.bias)\n",
    "\n",
    "        elif isinstance(module, nn.Embedding):\n",
    "            torch.nn.init.normal_(module.weight, mean=0.0, std=0.02)\n",
    "\n",
    "    def forward(self, embedding_vectors):\n",
    "        B, T = embedding_vectors.shape\n",
    "        token_embed = self.token_embedding_table(embedding_vectors).to(device)\n",
    "        position_embed = self.position_embedding_table(torch.arange(T, device=device))\n",
    "\n",
    "        x = token_embed + position_embed\n",
    "        x = self.blocks(x)\n",
    "        x = self.norm(x)\n",
    "\n",
    "        logits = self.lm_head(x)\n",
    "        return logits\n",
    "\n",
    "    def generate(self, embedding, max_new_tokens):\n",
    "        for _ in range(max_new_tokens):\n",
    "            embedding_cond = embedding[:, -BLOCK_SIZE:]\n",
    "            logits = self(embedding_cond)\n",
    "            logits = logits[:, -1, :]\n",
    "\n",
    "            # apply softmax to get probabilities\n",
    "            probs = torch.softmax(logits, dim=-1)\n",
    "\n",
    "            # sample from the distribution\n",
    "            embedding_next = torch.multinomial(probs, num_samples=1)\n",
    "\n",
    "            # append sampled index to the running sequence\n",
    "            embedding = torch.cat((embedding, embedding_next), dim=1) # Add 1 to last dimension\n",
    "\n",
    "        return embedding\n",
    "\n",
    "model = Transformer()\n",
    "model = model.to(device)\n",
    "print(sum(p.numel() for p in model.parameters()), 'total parameter count')"
   ]
  },
  {
   "cell_type": "code",
   "execution_count": 7,
   "metadata": {
    "id": "0k5bkehzUQiE"
   },
   "outputs": [],
   "source": [
    "# Define loss function, optimizer, and learning rate scheduler\n",
    "loss_fn = nn.CrossEntropyLoss()\n",
    "\n",
    "optimizer = torch.optim.Adam(model.parameters(),\n",
    "                             lr=LEARNING_RATE,\n",
    "                             weight_decay=WEIGHT_DECAY)\n",
    "\n",
    "scheduler = torch.optim.lr_scheduler.ReduceLROnPlateau(\n",
    "    optimizer,\n",
    "    patience=5 # It will wait 5 epochs until scheduling if needed\n",
    ")"
   ]
  },
  {
   "cell_type": "markdown",
   "metadata": {
    "id": "JUvzd6xKUKZU"
   },
   "source": [
    "## 3. Training Model"
   ]
  },
  {
   "cell_type": "code",
   "execution_count": 8,
   "metadata": {
    "id": "YbHd739QUN1q"
   },
   "outputs": [],
   "source": [
    "def print_train_time(start, end, device=None):\n",
    "    \"\"\"Prints difference between start and end time.\n",
    "\n",
    "    Args:\n",
    "        start (float): Start time of computation (preferred in timeit format).\n",
    "        end (float): End time of computation.\n",
    "        device ([type], optional): Device that compute is running on. Defaults to None.\n",
    "\n",
    "    Returns:\n",
    "        float: time between start and end in seconds (higher is longer).\n",
    "    \"\"\"\n",
    "    total_time = end - start\n",
    "    print(f\"\\nTrain time on {device}: {total_time:.3f} seconds\")\n",
    "    return total_time\n",
    "\n",
    "# Model training procedure\n",
    "def train(model, dataloader, optimizer, scheduler=None):\n",
    "    cur_loss = 0.0\n",
    "    model.train()\n",
    "\n",
    "    for X, y in dataloader:\n",
    "        logits = model(X)\n",
    "\n",
    "        B, T, C = logits.shape\n",
    "        logits = logits.view(B*T, C)\n",
    "        targets = y.view(B*T)\n",
    "\n",
    "        # Remember that torch.nn.functional.cross_entropy expects raw logits\n",
    "        loss = F.cross_entropy(logits, targets)\n",
    "        cur_loss += loss.item()\n",
    "\n",
    "        optimizer.zero_grad(set_to_none=True)\n",
    "        loss.backward()\n",
    "        optimizer.step()\n",
    "\n",
    "    cur_loss /= len(dataloader)\n",
    "\n",
    "    if scheduler is not None:\n",
    "      scheduler.step(cur_loss)\n",
    "\n",
    "    return cur_loss"
   ]
  },
  {
   "cell_type": "code",
   "execution_count": 9,
   "metadata": {
    "colab": {
     "base_uri": "https://localhost:8080/"
    },
    "id": "yFk4Ps5CV91C",
    "outputId": "4a0bba25-f9d9-472a-879d-6227721d16ab"
   },
   "outputs": [
    {
     "name": "stdout",
     "output_type": "stream",
     "text": [
      "Epoch: 1 | Train Loss: 1.2437\n",
      "Epoch: 2 | Train Loss: 0.8366\n",
      "Epoch: 3 | Train Loss: 0.6853\n",
      "Epoch: 4 | Train Loss: 0.5971\n",
      "Epoch: 5 | Train Loss: 0.5436\n",
      "Epoch: 6 | Train Loss: 0.5087\n",
      "Epoch: 7 | Train Loss: 0.4840\n",
      "Epoch: 8 | Train Loss: 0.4655\n",
      "Epoch: 9 | Train Loss: 0.4509\n",
      "Epoch: 10 | Train Loss: 0.4393\n",
      "\n",
      "Train time on cuda: 5943.436 seconds\n"
     ]
    }
   ],
   "source": [
    "# Start pre-training\n",
    "START_TIME = timer()\n",
    "\n",
    "# Store loss\n",
    "all_pre_train_losses = []\n",
    "\n",
    "# Calculate running loss during training\n",
    "running_train_loss = 0.0\n",
    "\n",
    "# Pre-training loop\n",
    "for epoch in range(EPOCHS):\n",
    "    train_loss = train(model, dataloader, optimizer, scheduler)\n",
    "    running_train_loss += train_loss\n",
    "\n",
    "    if (epoch + 1) % PLOT_STEPS == 0:\n",
    "        all_pre_train_losses.append(running_train_loss / PLOT_STEPS)\n",
    "        running_train_loss = 0.0\n",
    "\n",
    "    if (epoch + 1) % PRINT_STEPS == 0:\n",
    "        print(f\"Epoch: {epoch + 1} | Train Loss: {train_loss:.4f}\")\n",
    "\n",
    "END_TIME = timer()\n",
    "\n",
    "TOTAL_TRAIN_TIME = print_train_time(\n",
    "    start=START_TIME,\n",
    "    end=END_TIME,\n",
    "    device=device\n",
    ")"
   ]
  },
  {
   "cell_type": "markdown",
   "metadata": {},
   "source": [
    "Literally took 1 hr 40 min to train on CUDA using a T4 GPU from Google Colab's Computing Backend..."
   ]
  },
  {
   "cell_type": "code",
   "execution_count": 10,
   "metadata": {
    "colab": {
     "base_uri": "https://localhost:8080/",
     "height": 472
    },
    "id": "_xzUKd9aXA35",
    "outputId": "fc80171b-4239-45df-ce8b-e2fc87065f3e"
   },
   "outputs": [
    {
     "data": {
      "image/png": "[encoded data removed]",
      "text/plain": [
       "<Figure size 640x480 with 1 Axes>"
      ]
     },
     "metadata": {},
     "output_type": "display_data"
    }
   ],
   "source": [
    "# Plot train loss\n",
    "plt.title(\"Train Loss Curve\")\n",
    "plt.plot(all_pre_train_losses)\n",
    "plt.legend(['Training Loss'])\n",
    "plt.xlabel('Epochs')\n",
    "plt.ylabel('Loss');"
   ]
  },
  {
   "cell_type": "markdown",
   "metadata": {
    "id": "0IYflFDrZaqA"
   },
   "source": [
    "## 4. Save Model & Generate Text"
   ]
  },
  {
   "cell_type": "code",
   "execution_count": 11,
   "metadata": {
    "id": "sfevqM812J3K"
   },
   "outputs": [],
   "source": [
    "torch.save(model.state_dict(), '/content/drive/My Drive/dostoevsky-transformer.pth')"
   ]
  },
  {
   "cell_type": "code",
   "execution_count": 20,
   "metadata": {
    "id": "AQI2JiXiZb-Y"
   },
   "outputs": [],
   "source": [
    "# Starting with new line character is a good approach\n",
    "context = torch.zeros((1, 1), dtype=torch.long, device=device)\n",
    "\n",
    "# Get and save model's predicted next NUM_GENERATE characters in Netochka Nezvanova\n",
    "NUM_GENERATE = int(1e3)\n",
    "with open('/content/drive/My Drive/text-generation.txt', 'w') as f:\n",
    "  f.write(decode(model.generate(context, max_new_tokens=NUM_GENERATE)[0].tolist()))\n"
   ]
  },
  {
   "cell_type": "code",
   "execution_count": 21,
   "metadata": {
    "colab": {
     "base_uri": "https://localhost:8080/"
    },
    "id": "yuQ-51ihjD7Z",
    "outputId": "0c8668f0-d39c-46f5-f589-7adad8501810"
   },
   "outputs": [
    {
     "name": "stdout",
     "output_type": "stream",
     "text": [
      "\n",
      " father joy, who saw in uncertain with his simplistence, hor was that my father was an of real age, that he was broke from its overwhelmed to decorated joy at beyond of the father and most provincess call. I started with impatience. I wanted to beter. for me we met agains? While with what you are you turning us? Madame Leotard have suspid, why she always taught on her every done to know how of her, drop, dark and even going hartly, abserved it me frimove in such lebracter, shamelessly swered into me. Now I was crying about — the little I was ill describated Falstaff. I fell that I was like of God’s dather. It was always such all Fade bad me to do. She was chanking her child, I thought. And in the same smile was uncantast in his formly. At last the night the pavement ome put the pavement jed.\n",
      "\n",
      "Madame Leotard was stopped — burst‘e would the night in to kissed my fathestic Alexandra Mialovna, and inwardly awked to sleep, the procounceding of blushing at me, then an young agonising amazeme\n"
     ]
    }
   ],
   "source": [
    "with open('/content/drive/My Drive/text-generation.txt', 'r') as f:\n",
    "  print(f.read())"
   ]
  },
  {
   "cell_type": "markdown",
   "metadata": {
    "id": "3ge8Zne-kwuP"
   },
   "source": [
    "As you can see, the text is not quite completely flawless English, but it does seem that our Transformer GPT learned Dostoevsky's writing style pretty well given the size of the model.\n",
    "\n",
    "Please refer to README.md or the header of this notebook on methods you can do to make the text more:\n",
    "- accurately reflect Dostoevsky's writing style,\n",
    "- grammatically correct,\n",
    "- and even generate cool plots that serve as a candidate to the next chapters in Dostoevsky's famous unfinished novel Netochka Nezvanova"
   ]
  }
 ],
 "metadata": {
  "accelerator": "GPU",
  "colab": {
   "gpuType": "T4",
   "provenance": []
  },
  "kernelspec": {
   "display_name": "Python 3 (ipykernel)",
   "language": "python",
   "name": "python3"
  },
  "language_info": {
   "codemirror_mode": {
    "name": "ipython",
    "version": 3
   },
   "file_extension": ".py",
   "mimetype": "text/x-python",
   "name": "python",
   "nbconvert_exporter": "python",
   "pygments_lexer": "ipython3",
   "version": "3.12.5"
  }
 },
 "nbformat": 4,
 "nbformat_minor": 4
}
